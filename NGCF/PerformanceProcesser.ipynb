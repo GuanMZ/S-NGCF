{
 "cells": [
  {
   "cell_type": "markdown",
   "metadata": {},
   "source": [
    "# Translate args_performance.txt to table"
   ]
  },
  {
   "cell_type": "code",
   "execution_count": 102,
   "metadata": {},
   "outputs": [],
   "source": [
    "dataset = \"gowalla3k_5k\"\n",
    "outfile = open('tb_args_performance.csv', 'w')\n",
    "\n",
    "def str2intlist(s):\n",
    "    s = s.strip('[').strip(']').split(',')\n",
    "    l = [int(i) for i in s]\n",
    "    return l\n",
    "\n",
    "unprint_args = ['pretrain', 'epoch', 'weights_path', 'regs', 'alg_type', 'gpu_id',  'adj_type',\n",
    "                'embed_size', 'Ks', 'data_path',  'test_flag', 'report_loop', 'mess_dropout',\n",
    "                'verbose', 'dataset', 'model_type', 'report', 'lr', 'save_flag', 'proj_path',\n",
    "                'keep_prob', 'save_print_flag']\n",
    "\n",
    "with open('args_performance_' + dataset + '.txt', 'r') as infile:\n",
    "    odd_flag = 0\n",
    "    header_flag = 1\n",
    "    field_name_dic = {}\n",
    "    field_name_list_keys = []\n",
    "    list_ks = []\n",
    "    print_args = []\n",
    "    \n",
    "    for l in infile.readlines():\n",
    "        l = l.strip('\\n')\n",
    "        odd_flag = 1 - odd_flag\n",
    "        \n",
    "        if odd_flag:\n",
    "            # Namespace(Ks='[10]', adj_type='norm', ...)\n",
    "            l = l.strip('Namespace').strip('(').strip(')').replace(\"'\",\"\")\n",
    "            for field in l.split(', '):\n",
    "                field = field.split('=')\n",
    "                if field.__len__() > 1:\n",
    "                    field_name_dic[field[0]] = field[1]\n",
    "                else:\n",
    "                    field_name_dic[field[0]] = ''\n",
    "                \n",
    "            if header_flag:\n",
    "                list_ks = str2intlist(field_name_dic['Ks'])\n",
    "                headline = 'idx,t_train'  # headline = 'idx,t_train,Recall,Precision,HR,NDCG'\n",
    "                for fn in ['Recall','Precision','HR','NDCG']:\n",
    "                    for k in list_ks:\n",
    "                        headline += ',' + fn + '@' + str(k)\n",
    "                field_name_list_keys = field_name_dic.keys()\n",
    "                \n",
    "                print_args = list(set(field_name_list_keys) - set(unprint_args))\n",
    "#                 for fn in field_name_list_keys:\n",
    "                for fn in print_args:\n",
    "                    headline += ',' + fn\n",
    "                headline = headline.replace(',','\\t')\n",
    "                print(headline, file=outfile)\n",
    "                header_flag = 0\n",
    "        else:\n",
    "#             outline = l.replace(',','\\t')\n",
    "#             list_ks = field_name_dic['Ks']\n",
    "            l = l.split('\\t')\n",
    "            outline = l[0] + '\\t' + l[1]\n",
    "            for li in l[2:]:\n",
    "                li = li.strip('[').strip(']').replace(\"'\",'').replace(', ','\\t')\n",
    "                outline += '\\t' + li\n",
    "#             for k in field_name_list_keys:\n",
    "            for k in print_args:\n",
    "                outline += '\\t' + field_name_dic[k]\n",
    "            print(outline, file=outfile)\n",
    "\n",
    "outfile.close()\n"
   ]
  },
  {
   "cell_type": "code",
   "execution_count": 70,
   "metadata": {},
   "outputs": [
    {
     "name": "stdout",
     "output_type": "stream",
     "text": [
      "dict_keys(['node_dropout', 'pretrain', 'epoch', 'weights_path', 'regs', 'alg_type', 'gpu_id', 'shuffle_rate', 'adj_type', 'embed_size', 'Ks', 'data_path', 'num_neg', 'test_flag', 'report_loop', 'mess_dropout', 'verbose', 'dataset', 'model_type', 'report', 'lr', 'save_flag', 'proj_path', 'layer_size', 'node_dropout_flag', 'batch_size', 'social', 'keep_prob', 'save_print_flag'])\n"
     ]
    }
   ],
   "source": [
    "print(field_name_list_keys)"
   ]
  },
  {
   "cell_type": "code",
   "execution_count": null,
   "metadata": {},
   "outputs": [],
   "source": []
  },
  {
   "cell_type": "markdown",
   "metadata": {},
   "source": [
    "# Generate .sh batch script"
   ]
  },
  {
   "cell_type": "code",
   "execution_count": 90,
   "metadata": {},
   "outputs": [],
   "source": [
    "# run the args_performance.txt processing cell first to get field_name_dic\n",
    "\n",
    "# select dataset\n",
    "field_name_dic['dataset'] = 'gowalla3k_5k'\n",
    "# field_name_dic['dataset'] = 'gowalla8k'\n",
    "# field_name_dic['dataset'] = 'gowalla_sample_ngcf'\n",
    "\n",
    "# choose times of experiment\n",
    "N_times = 3\n",
    "\n",
    "# variants\n",
    "list_batch_size = ['256', '1024']\n",
    "# list_layer_size = ['[64,64]']\n",
    "# list_lr = ['0.0001']\n",
    "list_num_neg = ['10', '8', '4', '2', '1']\n",
    "list_social = ['1', '0']\n",
    "list_shuffle_rate = ['0.0', '0.2', '0.4', '0.6', '0.8', '1.0']\n",
    "# list_social_shuffle = []\n",
    "# for s in list_social:\n",
    "#     if int(s) == 0:\n",
    "#         list_social_shuffle.append('0')\n",
    "#     else:\n",
    "#         for sr in list_shuffle_rate:\n",
    "\n",
    "selected_field_name = ['batch_size', 'num_neg', 'social', 'shuffle_rate']\n",
    "unselected_field_name = list(set(field_name_dic.keys()) - set(selected_field_name))\n",
    "if 'weights_path' in unselected_field_name:\n",
    "    unselected_field_name.remove('weights_path')\n",
    "    unselected_field_name.remove('proj_path')\n",
    "\n",
    "with open('batch_' + field_name_dic['dataset'] + '.sh', 'w') as f:\n",
    "    for lp in range(N_times):\n",
    "        for batch_size in list_batch_size:\n",
    "            for num_neg in list_num_neg:\n",
    "                for social in list_social:\n",
    "                    if int(social) == 0:\n",
    "                        cmdline = \"python NGCF.py --shuffle_rate 0. --batch_size \" + batch_size + \" --num_neg \" + num_neg \\\n",
    "                        + \" --social \" + social\n",
    "                        for fn in unselected_field_name:\n",
    "                            cmdline += \" --\" + fn + \" \" + field_name_dic[fn]\n",
    "                        print(cmdline, file=f)\n",
    "                    else:\n",
    "                        for shuffle_rate in list_shuffle_rate:\n",
    "                            cmdline = \"python NGCF.py --shuffle_rate \" + shuffle_rate + \" --batch_size \" + batch_size \\\n",
    "                            + \" --num_neg \" + num_neg + \" --social \" + social\n",
    "                            for fn in unselected_field_name:\n",
    "                                cmdline += \" --\" + fn + \" \" + field_name_dic[fn]\n",
    "                            print(cmdline, file=f)\n",
    "                            \n",
    "\n",
    "    "
   ]
  },
  {
   "cell_type": "code",
   "execution_count": 86,
   "metadata": {},
   "outputs": [
    {
     "data": {
      "text/plain": [
       "{'Ks': '[10,20,40,100,1]',\n",
       " 'adj_type': 'norm',\n",
       " 'alg_type': 'ngcf',\n",
       " 'batch_size': '256',\n",
       " 'data_path': '../Data/',\n",
       " 'dataset': 'gowalla8k',\n",
       " 'embed_size': '64',\n",
       " 'epoch': '400',\n",
       " 'gpu_id': '0',\n",
       " 'keep_prob': '0.5',\n",
       " 'layer_size': '[64,64]',\n",
       " 'lr': '0.0001',\n",
       " 'mess_dropout': '[0.1,0.1,0.1]',\n",
       " 'model_type': 'ngcf',\n",
       " 'node_dropout': '[0.1]',\n",
       " 'node_dropout_flag': '0',\n",
       " 'num_neg': '10',\n",
       " 'pretrain': '0',\n",
       " 'proj_path': '',\n",
       " 'regs': '[1e-5]',\n",
       " 'report': '0',\n",
       " 'report_loop': '10',\n",
       " 'save_flag': '1',\n",
       " 'save_print_flag': '1',\n",
       " 'shuffle_rate': '0.0',\n",
       " 'social': '1',\n",
       " 'test_flag': 'part',\n",
       " 'verbose': '1',\n",
       " 'weights_path': ''}"
      ]
     },
     "execution_count": 86,
     "metadata": {},
     "output_type": "execute_result"
    }
   ],
   "source": [
    "field_name_dic"
   ]
  },
  {
   "cell_type": "code",
   "execution_count": 96,
   "metadata": {},
   "outputs": [],
   "source": [
    "# run the args_performance.txt processing cell first to get field_name_dic\n",
    "\n",
    "for i in range(6,10):\n",
    "    # select dataset\n",
    "    field_name_dic['dataset'] = 'drop_0.' + str(i)\n",
    "    # field_name_dic['dataset'] = 'gowalla8k'\n",
    "    # field_name_dic['dataset'] = 'gowalla_sample_ngcf'\n",
    "\n",
    "    # choose times of experiment\n",
    "    N_times = 3\n",
    "\n",
    "    # variants\n",
    "    list_batch_size = ['256']\n",
    "    # list_layer_size = ['[64,64]']\n",
    "    # list_lr = ['0.0001']\n",
    "    list_num_neg = ['10']\n",
    "    list_social = ['1', '0']\n",
    "    list_shuffle_rate = ['0.0']\n",
    "    # list_social_shuffle = []\n",
    "    # for s in list_social:\n",
    "    #     if int(s) == 0:\n",
    "    #         list_social_shuffle.append('0')\n",
    "    #     else:\n",
    "    #         for sr in list_shuffle_rate:\n",
    "\n",
    "    selected_field_name = ['batch_size', 'num_neg', 'social', 'shuffle_rate']\n",
    "    unselected_field_name = list(set(field_name_dic.keys()) - set(selected_field_name))\n",
    "    if 'weights_path' in unselected_field_name:\n",
    "        unselected_field_name.remove('weights_path')\n",
    "        unselected_field_name.remove('proj_path')\n",
    "\n",
    "    with open('batch_drops.sh', 'a') as f:\n",
    "        for lp in range(N_times):\n",
    "            for batch_size in list_batch_size:\n",
    "                for num_neg in list_num_neg:\n",
    "                    for social in list_social:\n",
    "                        if int(social) == 0:\n",
    "                            cmdline = \"python NGCF.py --shuffle_rate 0. --batch_size \" + batch_size + \" --num_neg \" + num_neg \\\n",
    "                            + \" --social \" + social\n",
    "                            for fn in unselected_field_name:\n",
    "                                cmdline += \" --\" + fn + \" \" + field_name_dic[fn]\n",
    "                            print(cmdline, file=f)\n",
    "                        else:\n",
    "                            for shuffle_rate in list_shuffle_rate:\n",
    "                                cmdline = \"python NGCF.py --shuffle_rate \" + shuffle_rate + \" --batch_size \" + batch_size \\\n",
    "                                + \" --num_neg \" + num_neg + \" --social \" + social\n",
    "                                for fn in unselected_field_name:\n",
    "                                    cmdline += \" --\" + fn + \" \" + field_name_dic[fn]\n",
    "                                print(cmdline, file=f)\n",
    "\n",
    "\n"
   ]
  },
  {
   "cell_type": "code",
   "execution_count": 103,
   "metadata": {},
   "outputs": [
    {
     "data": {
      "text/plain": [
       "0.05542570951585968"
      ]
     },
     "execution_count": 103,
     "metadata": {},
     "output_type": "execute_result"
    }
   ],
   "source": [
    "0.09483 / 0.08985 - 1"
   ]
  },
  {
   "cell_type": "code",
   "execution_count": 104,
   "metadata": {},
   "outputs": [
    {
     "data": {
      "text/plain": [
       "0.004979999999999998"
      ]
     },
     "execution_count": 104,
     "metadata": {},
     "output_type": "execute_result"
    }
   ],
   "source": [
    "0.09483 - 0.08985"
   ]
  },
  {
   "cell_type": "code",
   "execution_count": 1,
   "metadata": {},
   "outputs": [
    {
     "data": {
      "text/plain": [
       "0.12758620689655187"
      ]
     },
     "execution_count": 1,
     "metadata": {},
     "output_type": "execute_result"
    }
   ],
   "source": [
    ".09483 / .0841 - 1"
   ]
  },
  {
   "cell_type": "code",
   "execution_count": 2,
   "metadata": {},
   "outputs": [],
   "source": [
    "drop_sngcf = [0.07388,0.07688,0.07849,0.08218,0.09483]\n",
    "drop_ngcf = [0.063,0.06804,0.07191,0.08038,0.0841]\n",
    "drop_bpr = [0.05512,0.06156,0.06934,0.07365,0.07288]"
   ]
  },
  {
   "cell_type": "code",
   "execution_count": 3,
   "metadata": {},
   "outputs": [
    {
     "name": "stdout",
     "output_type": "stream",
     "text": [
      "\t0.07388\t0.07688\t0.07849\t0.08218\t0.09483\n",
      "\t0.063\t0.06804\t0.07191\t0.08038\t0.0841\n",
      "\t0.05512\t0.06156\t0.06934\t0.07365\t0.07288\n"
     ]
    }
   ],
   "source": [
    "line = \"\"\n",
    "for d in drop_sngcf:\n",
    "    line += \"\\t\" + str(d)\n",
    "line += \"\\n\"\n",
    "for d in drop_ngcf:\n",
    "    line += \"\\t\" + str(d)\n",
    "line += \"\\n\"\n",
    "for d in drop_bpr:\n",
    "    line += \"\\t\" + str(d)\n",
    "print(line)"
   ]
  },
  {
   "cell_type": "code",
   "execution_count": null,
   "metadata": {},
   "outputs": [],
   "source": []
  }
 ],
 "metadata": {
  "kernelspec": {
   "display_name": "env4",
   "language": "python",
   "name": "env4"
  },
  "language_info": {
   "codemirror_mode": {
    "name": "ipython",
    "version": 3
   },
   "file_extension": ".py",
   "mimetype": "text/x-python",
   "name": "python",
   "nbconvert_exporter": "python",
   "pygments_lexer": "ipython3",
   "version": "3.5.2"
  }
 },
 "nbformat": 4,
 "nbformat_minor": 2
}
