{
 "cells": [
  {
   "cell_type": "code",
   "execution_count": 4,
   "metadata": {},
   "outputs": [],
   "source": [
    "import numpy as np \n",
    "import pandas as pd \n",
    "import networkx as nx \n",
    "import matplotlib.pyplot as plt "
   ]
  },
  {
   "cell_type": "code",
   "execution_count": 41,
   "metadata": {},
   "outputs": [],
   "source": [
    "user_list = pd.read_csv(\"./gowalla/user_list.txt\",sep=\" \")\n",
    "user_map = dict(user_list.values)"
   ]
  },
  {
   "cell_type": "code",
   "execution_count": 39,
   "metadata": {},
   "outputs": [],
   "source": [
    "edges = pd.read_csv(\"./gowalla_edges.txt\",sep=\"\\t\",header=None,names=[\"u1\",\"u2\"])"
   ]
  },
  {
   "cell_type": "code",
   "execution_count": 43,
   "metadata": {},
   "outputs": [],
   "source": [
    "edges = edges[(edges.u1.isin(user_map.keys())) & (edges.u2.isin(user_map.keys()))]"
   ]
  },
  {
   "cell_type": "code",
   "execution_count": 57,
   "metadata": {},
   "outputs": [],
   "source": [
    "g = nx.Graph()\n",
    "g.add_edges_from(edges.values)\n",
    "relabel_g = nx.relabel_nodes(g,user_map)\n",
    "second_map = {v:i for i,v in enumerate(relabel_g.nodes())}\n",
    "second_g = nx.relabel_nodes(relabel_g,second_map)"
   ]
  },
  {
   "cell_type": "code",
   "execution_count": 69,
   "metadata": {},
   "outputs": [],
   "source": [
    "train_dict = dict()\n",
    "with open(\"./gowalla/train.txt\") as f :\n",
    "    for line in f:\n",
    "        line = line.strip().split(\" \")\n",
    "        line = list(map(int,line))\n",
    "        u = line[0]\n",
    "        u = second_map.get(u)\n",
    "        if u!= None:\n",
    "            items = line[1:]\n",
    "            train_dict[u] = items"
   ]
  },
  {
   "cell_type": "code",
   "execution_count": 70,
   "metadata": {},
   "outputs": [],
   "source": [
    "test_dict = dict()\n",
    "with open(\"./gowalla/test.txt\") as f :\n",
    "    for line in f:\n",
    "        line = line.strip().split(\" \")\n",
    "        line = list(map(int,line))\n",
    "        u = line[0]\n",
    "        u = second_map.get(u)\n",
    "        if u!= None:\n",
    "            items = line[1:]\n",
    "            test_dict[u] = items"
   ]
  },
  {
   "cell_type": "code",
   "execution_count": 73,
   "metadata": {},
   "outputs": [
    {
     "name": "stdout",
     "output_type": "stream",
     "text": [
      "26892 26892 26892\n"
     ]
    }
   ],
   "source": [
    "print(len(train_dict),second_g.number_of_nodes(),len(test_dict))"
   ]
  },
  {
   "cell_type": "code",
   "execution_count": 75,
   "metadata": {},
   "outputs": [],
   "source": [
    "from collections import defaultdict"
   ]
  },
  {
   "cell_type": "code",
   "execution_count": 76,
   "metadata": {},
   "outputs": [],
   "source": [
    "train_item = defaultdict(list)\n",
    "for user,items in train_dict.items():\n",
    "    for item in items:\n",
    "        train_item[item].append(user)\n",
    "test_item = defaultdict(list)\n",
    "for user,items in test_dict.items():\n",
    "    for item in items:\n",
    "        test_item[item].append(user)"
   ]
  },
  {
   "cell_type": "code",
   "execution_count": 84,
   "metadata": {},
   "outputs": [],
   "source": [
    "with open(\"train.txt\",\"w\") as f :\n",
    "    for item_id, user_list in train_item.items():\n",
    "        output = [item_id]+user_list\n",
    "        output = list(map(str,output))\n",
    "        f.write(\" \".join(output))"
   ]
  },
  {
   "cell_type": "code",
   "execution_count": 85,
   "metadata": {},
   "outputs": [],
   "source": [
    "with open(\"test.txt\",\"w\") as f :\n",
    "    for item_id, user_list in test_item.items():\n",
    "        output = [item_id]+user_list\n",
    "        output = list(map(str,output))\n",
    "        f.write(\" \".join(output))"
   ]
  },
  {
   "cell_type": "code",
   "execution_count": 96,
   "metadata": {},
   "outputs": [
    {
     "data": {
      "text/plain": [
       "array([5, 9, 4, 7, 3, 2, 6, 1])"
      ]
     },
     "execution_count": 96,
     "metadata": {},
     "output_type": "execute_result"
    }
   ],
   "source": [
    "np.random.choice([1,2,3,6,4,9,5,7],8,replace=0)"
   ]
  },
  {
   "cell_type": "code",
   "execution_count": 97,
   "metadata": {},
   "outputs": [
    {
     "ename": "IndentationError",
     "evalue": "expected an indented block (<ipython-input-97-56751c0d332e>, line 4)",
     "output_type": "error",
     "traceback": [
      "\u001b[0;36m  File \u001b[0;32m\"<ipython-input-97-56751c0d332e>\"\u001b[0;36m, line \u001b[0;32m4\u001b[0m\n\u001b[0;31m    for item_id, user_list in train_item.items():\u001b[0m\n\u001b[0m      ^\u001b[0m\n\u001b[0;31mIndentationError\u001b[0m\u001b[0;31m:\u001b[0m expected an indented block\n"
     ]
    }
   ],
   "source": [
    "def drop_data(data,dr=0):\n",
    "    file_name = \"train_%s.txt\" % dr\n",
    "    with open(file_name,\"w\") as f :\n",
    "    for item_id, user_list in train_item.items():\n",
    "        valid_length = len(user_list)*(1-dr)\n",
    "        user_list = np.random.choice(user_list,valid_length,replace=0).tolist()\n",
    "        output = [item_id]+user_list\n",
    "        output = list(map(str,output))\n",
    "        f.write(\" \".join(output))"
   ]
  },
  {
   "cell_type": "code",
   "execution_count": null,
   "metadata": {},
   "outputs": [],
   "source": []
  }
 ],
 "metadata": {
  "kernelspec": {
   "display_name": "Python 3",
   "language": "python",
   "name": "python3"
  },
  "language_info": {
   "codemirror_mode": {
    "name": "ipython",
    "version": 3
   },
   "file_extension": ".py",
   "mimetype": "text/x-python",
   "name": "python",
   "nbconvert_exporter": "python",
   "pygments_lexer": "ipython3",
   "version": "3.5.2"
  }
 },
 "nbformat": 4,
 "nbformat_minor": 2
}
