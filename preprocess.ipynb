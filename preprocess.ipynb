{
 "cells": [
  {
   "cell_type": "code",
   "execution_count": 3,
   "metadata": {},
   "outputs": [],
   "source": [
    "import numpy as np \n",
    "import pandas as pd \n",
    "import matplotlib.pyplot as plt\n",
    "import json\n",
    "import networkx as nx\n",
    "from community import best_partition"
   ]
  },
  {
   "cell_type": "code",
   "execution_count": 4,
   "metadata": {},
   "outputs": [],
   "source": [
    "raw = pd.read_csv(\"./data/gowalla_checkins.csv\")\n",
    "raw = raw.sort_values(\"datetime\")"
   ]
  },
  {
   "cell_type": "code",
   "execution_count": 5,
   "metadata": {},
   "outputs": [],
   "source": [
    "raw[\"datetime\"] = pd.to_datetime(raw[\"datetime\"])\n",
    "raw[\"week\"] = raw[\"datetime\"].dt.week"
   ]
  },
  {
   "cell_type": "code",
   "execution_count": 6,
   "metadata": {},
   "outputs": [],
   "source": [
    "def get_month(x):\n",
    "    year = x.year\n",
    "    month = x.month\n",
    "    return str(year)+str(month)"
   ]
  },
  {
   "cell_type": "code",
   "execution_count": 7,
   "metadata": {},
   "outputs": [],
   "source": [
    "raw[\"month\"] = raw[\"datetime\"].apply(get_month)"
   ]
  },
  {
   "cell_type": "code",
   "execution_count": 8,
   "metadata": {},
   "outputs": [],
   "source": [
    "train_length = int(raw.shape[0]*0.8)\n",
    "train_set = raw[:train_length]\n",
    "test_set = raw[train_length:]"
   ]
  },
  {
   "cell_type": "code",
   "execution_count": 9,
   "metadata": {},
   "outputs": [],
   "source": [
    "train_item = list(train_set.placeid.value_counts()[train_set.placeid.value_counts()>100].index)\n",
    "train_set = train_set[train_set.placeid.isin(train_item)]"
   ]
  },
  {
   "cell_type": "code",
   "execution_count": 10,
   "metadata": {},
   "outputs": [
    {
     "data": {
      "text/plain": [
       "32316"
      ]
     },
     "execution_count": 10,
     "metadata": {},
     "output_type": "execute_result"
    }
   ],
   "source": [
    "len(train_set.placeid.unique())"
   ]
  },
  {
   "cell_type": "markdown",
   "metadata": {},
   "source": [
    "## Find connected user"
   ]
  },
  {
   "cell_type": "code",
   "execution_count": 122,
   "metadata": {},
   "outputs": [],
   "source": [
    "edges = pd.read_csv(\"./data/gowalla_friendship.csv\")"
   ]
  },
  {
   "cell_type": "code",
   "execution_count": 12,
   "metadata": {},
   "outputs": [],
   "source": [
    "g_test = nx.Graph()\n",
    "g_test.add_edges_from(edges.values)"
   ]
  },
  {
   "cell_type": "code",
   "execution_count": 13,
   "metadata": {},
   "outputs": [],
   "source": [
    "g_test = nx.subgraph(g_test,list(train_set.userid.unique()))"
   ]
  },
  {
   "cell_type": "code",
   "execution_count": 14,
   "metadata": {},
   "outputs": [
    {
     "name": "stdout",
     "output_type": "stream",
     "text": [
      "197288 197288\n"
     ]
    }
   ],
   "source": [
    "print(g_test.number_of_nodes(), len(train_set.userid.unique()))"
   ]
  },
  {
   "cell_type": "code",
   "execution_count": 15,
   "metadata": {},
   "outputs": [],
   "source": [
    "par_df = pd.read_csv(\"./data/partition.csv\")"
   ]
  },
  {
   "cell_type": "code",
   "execution_count": 103,
   "metadata": {},
   "outputs": [],
   "source": [
    "par = best_partition(g_test)"
   ]
  },
  {
   "cell_type": "code",
   "execution_count": 104,
   "metadata": {},
   "outputs": [],
   "source": [
    "par_df = pd.DataFrame(par,index=[0]).T.reset_index()\n",
    "par_df.columns = [\"uid\",\"cluster\"]"
   ]
  },
  {
   "cell_type": "code",
   "execution_count": 105,
   "metadata": {},
   "outputs": [],
   "source": [
    "par_df.to_csv(\"./data/partition.csv\",index=0)"
   ]
  },
  {
   "cell_type": "code",
   "execution_count": 16,
   "metadata": {},
   "outputs": [
    {
     "data": {
      "text/plain": [
       "0     39547\n",
       "13    31181\n",
       "3     15409\n",
       "8     10196\n",
       "6      8958\n",
       "32     8477\n",
       "17     8273\n",
       "2      7756\n",
       "1      6709\n",
       "5      4983\n",
       "11     4447\n",
       "29     4059\n",
       "10     3375\n",
       "7      3247\n",
       "50     3131\n",
       "Name: cluster, dtype: int64"
      ]
     },
     "execution_count": 16,
     "metadata": {},
     "output_type": "execute_result"
    }
   ],
   "source": [
    "par_df.cluster.value_counts()[par_df.cluster.value_counts()>2500]"
   ]
  },
  {
   "cell_type": "code",
   "execution_count": 155,
   "metadata": {},
   "outputs": [
    {
     "data": {
      "text/plain": [
       "1"
      ]
     },
     "execution_count": 155,
     "metadata": {},
     "output_type": "execute_result"
    }
   ],
   "source": [
    "len(list(nx.connected_components(nx.subgraph(g_test,connect_user))))"
   ]
  },
  {
   "cell_type": "code",
   "execution_count": 153,
   "metadata": {},
   "outputs": [],
   "source": [
    "connect_user = list(par_df[par_df.cluster==6].uid.values)"
   ]
  },
  {
   "cell_type": "code",
   "execution_count": 154,
   "metadata": {},
   "outputs": [
    {
     "data": {
      "text/plain": [
       "8958"
      ]
     },
     "execution_count": 154,
     "metadata": {},
     "output_type": "execute_result"
    }
   ],
   "source": [
    "len(train_set[train_set.userid.isin(connect_user)].userid.unique())"
   ]
  },
  {
   "cell_type": "code",
   "execution_count": 95,
   "metadata": {},
   "outputs": [],
   "source": [
    "def get_id(data):\n",
    "    user_list = data.userid.unique()\n",
    "    item_list = data.placeid.unique()\n",
    "    user_map = {v:i for i,v in enumerate(user_list)}\n",
    "    user_inv = {i:v for i,v in enumerate(user_list)}\n",
    "    item_map = {v:i for i,v in enumerate(item_list)}\n",
    "    item_inv = {i:v for i,v in enumerate(item_list)}\n",
    "    return user_map, user_inv, item_map, item_inv\n",
    "def normalize_id(data,user_map, item_map):\n",
    "    data[\"userid\"] = data[\"userid\"].apply(lambda x:user_map[x])\n",
    "    data[\"placeid\"] = data[\"placeid\"].apply(lambda x:item_map[x])\n",
    "    return data"
   ]
  },
  {
   "cell_type": "code",
   "execution_count": 96,
   "metadata": {},
   "outputs": [],
   "source": [
    "def filter_useritem(train_set, test_set):\n",
    "    train_user, train_item = connect_user, train_set.placeid.unique()\n",
    "#     train_user = list(train_set.userid.value_counts().index[:3000])\n",
    "    train_item = list(train_set.placeid.value_counts()[train_set.placeid.value_counts()>100].index)\n",
    "#     train_item = list(train_set.placeid.unique())\n",
    "    train_set = train_set[train_set.userid.isin(train_user)]\n",
    "    train_set = train_set[train_set.placeid.isin(train_item)]\n",
    "    test_set = test_set[test_set.userid.isin(train_user)]\n",
    "    test_set = test_set[test_set.placeid.isin(train_item)]\n",
    "    return train_set, test_set "
   ]
  },
  {
   "cell_type": "code",
   "execution_count": 156,
   "metadata": {},
   "outputs": [],
   "source": [
    "a, b = filter_useritem(train_set, test_set)"
   ]
  },
  {
   "cell_type": "code",
   "execution_count": 157,
   "metadata": {},
   "outputs": [
    {
     "name": "stdout",
     "output_type": "stream",
     "text": [
      "(276740, 5) (60797, 5)\n"
     ]
    }
   ],
   "source": [
    "print(a.shape,b.shape)"
   ]
  },
  {
   "cell_type": "code",
   "execution_count": 158,
   "metadata": {},
   "outputs": [
    {
     "data": {
      "text/plain": [
       "(60797, 5)"
      ]
     },
     "execution_count": 158,
     "metadata": {},
     "output_type": "execute_result"
    }
   ],
   "source": [
    "b[b.userid.isin(a.userid.unique())].shape"
   ]
  },
  {
   "cell_type": "code",
   "execution_count": 159,
   "metadata": {},
   "outputs": [],
   "source": [
    "b = b[b.userid.isin(a.userid.unique())]\n",
    "b = b[b.placeid.isin(a.placeid.unique())]"
   ]
  },
  {
   "cell_type": "code",
   "execution_count": 160,
   "metadata": {},
   "outputs": [],
   "source": [
    "user_map, user_inv, item_map, item_inv = get_id(a)\n",
    "train, test = normalize_id(a,user_map,item_map), normalize_id(b, user_map, item_map)"
   ]
  },
  {
   "cell_type": "code",
   "execution_count": 161,
   "metadata": {},
   "outputs": [
    {
     "name": "stdout",
     "output_type": "stream",
     "text": [
      "197288 8958 8958\n"
     ]
    }
   ],
   "source": [
    "print(len(train_set.userid.unique()),len(user_map),len(a.userid.unique()))"
   ]
  },
  {
   "cell_type": "code",
   "execution_count": 162,
   "metadata": {},
   "outputs": [
    {
     "name": "stdout",
     "output_type": "stream",
     "text": [
      "(276740, 5) (59932, 5)\n"
     ]
    }
   ],
   "source": [
    "print(train.shape,test.shape)"
   ]
  },
  {
   "cell_type": "code",
   "execution_count": 163,
   "metadata": {},
   "outputs": [
    {
     "name": "stdout",
     "output_type": "stream",
     "text": [
      "7230\n"
     ]
    }
   ],
   "source": [
    "print((len(train.placeid.unique())))"
   ]
  },
  {
   "cell_type": "markdown",
   "metadata": {},
   "source": [
    "## Create training set"
   ]
  },
  {
   "cell_type": "code",
   "execution_count": 105,
   "metadata": {},
   "outputs": [],
   "source": [
    "train_user, train_item = list(train.userid.unique()), list(train.placeid.unique())"
   ]
  },
  {
   "cell_type": "code",
   "execution_count": 106,
   "metadata": {},
   "outputs": [],
   "source": [
    "positive_pair = set([tuple(i) for i in train[[\"userid\",\"placeid\"]].values])"
   ]
  },
  {
   "cell_type": "code",
   "execution_count": 107,
   "metadata": {},
   "outputs": [],
   "source": [
    "negative_pair = set()\n",
    "rd_user = np.random.choice(train_user,size=len(positive_pair))\n",
    "rd_item = np.random.choice(train_item,size=len(positive_pair))\n",
    "negative_pair.update(list(zip(rd_user, rd_item)))"
   ]
  },
  {
   "cell_type": "code",
   "execution_count": 108,
   "metadata": {},
   "outputs": [],
   "source": [
    "negative_pair = negative_pair - positive_pair"
   ]
  },
  {
   "cell_type": "code",
   "execution_count": 109,
   "metadata": {},
   "outputs": [],
   "source": [
    "positive_df = pd.DataFrame(list(positive_pair))\n",
    "positive_df[\"label\"] = 1 \n",
    "negative_df = pd.DataFrame(list(negative_pair))\n",
    "negative_df[\"label\"] = 0\n",
    "train_df = pd.concat((positive_df,negative_df))"
   ]
  },
  {
   "cell_type": "code",
   "execution_count": 110,
   "metadata": {},
   "outputs": [
    {
     "data": {
      "text/plain": [
       "36538"
      ]
     },
     "execution_count": 110,
     "metadata": {},
     "output_type": "execute_result"
    }
   ],
   "source": [
    "len(train_df)"
   ]
  },
  {
   "cell_type": "markdown",
   "metadata": {},
   "source": [
    "## Create testing set "
   ]
  },
  {
   "cell_type": "code",
   "execution_count": 111,
   "metadata": {},
   "outputs": [],
   "source": [
    "train_dict = dict()\n",
    "for u,df in train.groupby(\"userid\"):\n",
    "    train_dict[u] = list(df.placeid.unique())"
   ]
  },
  {
   "cell_type": "code",
   "execution_count": 112,
   "metadata": {},
   "outputs": [],
   "source": [
    "def check_neighbor_adopt(item,user,train_dict,graph):\n",
    "    friends = list(graph.neighbors(user))\n",
    "    locs = set()\n",
    "    for f in friends:\n",
    "        locs.update(train_dict[f])\n",
    "    if item in locs:\n",
    "        return True\n",
    "    else:\n",
    "        return False"
   ]
  },
  {
   "cell_type": "code",
   "execution_count": 147,
   "metadata": {},
   "outputs": [],
   "source": [
    "test_social = dict()\n",
    "for item, df in test.groupby(\"placeid\"):\n",
    "    test_users = set(df.userid.values)\n",
    "    rm_user = set()\n",
    "    for u in test_users:\n",
    "        if item in train_dict[u]:\n",
    "            rm_user.add(u)\n",
    "        elif not check_neighbor_adopt(item, u,train_dict,g):\n",
    "            rm_user.add(u)\n",
    "    if list(test_users - rm_user):\n",
    "        test_social[item] = list(test_users - rm_user)"
   ]
  },
  {
   "cell_type": "code",
   "execution_count": 135,
   "metadata": {},
   "outputs": [],
   "source": [
    "test_ans = dict()\n",
    "for item, df in test.groupby(\"placeid\"):\n",
    "    test_ans[item] = list(set(df.userid.values.tolist()))"
   ]
  },
  {
   "cell_type": "code",
   "execution_count": 140,
   "metadata": {
    "scrolled": true
   },
   "outputs": [
    {
     "data": {
      "text/plain": [
       "214"
      ]
     },
     "execution_count": 140,
     "metadata": {},
     "output_type": "execute_result"
    }
   ],
   "source": [
    "len(test_social)"
   ]
  },
  {
   "cell_type": "code",
   "execution_count": 134,
   "metadata": {
    "scrolled": true
   },
   "outputs": [
    {
     "name": "stdout",
     "output_type": "stream",
     "text": [
      "7.9398505451427175\n",
      "7.303738317757009\n"
     ]
    }
   ],
   "source": [
    "print(np.mean([len(i) for i in test_ans.values()]))\n",
    "print(np.mean([len(i) for i in test_social.values()]))"
   ]
  },
  {
   "cell_type": "markdown",
   "metadata": {},
   "source": [
    "## create user feature"
   ]
  },
  {
   "cell_type": "code",
   "execution_count": 148,
   "metadata": {},
   "outputs": [],
   "source": [
    "from collections import defaultdict"
   ]
  },
  {
   "cell_type": "code",
   "execution_count": 149,
   "metadata": {},
   "outputs": [],
   "source": [
    "gp = train.groupby([\"userid\",\"week\"])"
   ]
  },
  {
   "cell_type": "code",
   "execution_count": 150,
   "metadata": {},
   "outputs": [
    {
     "name": "stdout",
     "output_type": "stream",
     "text": [
      "........."
     ]
    }
   ],
   "source": [
    "d = defaultdict(list)\n",
    "i = 0\n",
    "for _, df in gp:\n",
    "    uid = df.userid.values[0]\n",
    "    lid = df.placeid.values.tolist()\n",
    "    d[uid].append(lid)\n",
    "    if (i+1) %10000 ==0:\n",
    "        print(\".\",end=\"\")\n",
    "    i+=1"
   ]
  },
  {
   "cell_type": "code",
   "execution_count": 151,
   "metadata": {},
   "outputs": [],
   "source": [
    "num_item = train.placeid.max()+1\n",
    "num_user = train.userid.max()+1"
   ]
  },
  {
   "cell_type": "code",
   "execution_count": 152,
   "metadata": {},
   "outputs": [],
   "source": [
    "# user_feature = np.zeros(num_user).tolist()\n",
    "# for u,week_sess in d.items():\n",
    "#     user_feature[u] = week_sess[-1]"
   ]
  },
  {
   "cell_type": "code",
   "execution_count": 153,
   "metadata": {},
   "outputs": [],
   "source": [
    "item_embedding = np.zeros((num_item,num_user))\n",
    "for item,df in train.groupby(\"placeid\"):\n",
    "    for uid, n in dict(df.userid.value_counts()).items():\n",
    "        item_embedding[item][uid] = n"
   ]
  },
  {
   "cell_type": "code",
   "execution_count": 154,
   "metadata": {},
   "outputs": [],
   "source": [
    "user_feature = np.zeros(num_user).tolist()\n",
    "for u,week_sess in d.items():\n",
    "    history_seq = []\n",
    "    for each_week in week_sess:\n",
    "        week_vector = np.zeros(num_item)\n",
    "        for each_item in each_week:\n",
    "            week_vector[each_item] = week_vector[each_item]+1\n",
    "        history_seq.append(week_vector.tolist())\n",
    "    user_feature[u] = history_seq"
   ]
  },
  {
   "cell_type": "markdown",
   "metadata": {},
   "source": [
    "## Graph"
   ]
  },
  {
   "cell_type": "code",
   "execution_count": 114,
   "metadata": {},
   "outputs": [
    {
     "data": {
      "text/plain": [
       "3131"
      ]
     },
     "execution_count": 114,
     "metadata": {},
     "output_type": "execute_result"
    }
   ],
   "source": [
    "len(user_map)"
   ]
  },
  {
   "cell_type": "code",
   "execution_count": 123,
   "metadata": {},
   "outputs": [],
   "source": [
    "edges = edges[(edges.userid1.isin(user_map.keys())) & (edges.userid2.isin(user_map.keys()))]"
   ]
  },
  {
   "cell_type": "code",
   "execution_count": 124,
   "metadata": {},
   "outputs": [],
   "source": [
    "edges[\"userid1\"] = edges[\"userid1\"].apply(lambda x:user_map[x])\n",
    "edges[\"userid2\"] = edges[\"userid2\"].apply(lambda x:user_map[x])"
   ]
  },
  {
   "cell_type": "code",
   "execution_count": 125,
   "metadata": {},
   "outputs": [],
   "source": [
    "g = nx.Graph()"
   ]
  },
  {
   "cell_type": "code",
   "execution_count": 126,
   "metadata": {},
   "outputs": [],
   "source": [
    "g.add_edges_from(edges.values)\n",
    "# g.add_nodes_from(user_map.values())"
   ]
  },
  {
   "cell_type": "code",
   "execution_count": 127,
   "metadata": {
    "scrolled": true
   },
   "outputs": [
    {
     "data": {
      "text/plain": [
       "3131"
      ]
     },
     "execution_count": 127,
     "metadata": {},
     "output_type": "execute_result"
    }
   ],
   "source": [
    "g.number_of_nodes()"
   ]
  },
  {
   "cell_type": "code",
   "execution_count": 128,
   "metadata": {},
   "outputs": [
    {
     "data": {
      "text/plain": [
       "1"
      ]
     },
     "execution_count": 128,
     "metadata": {},
     "output_type": "execute_result"
    }
   ],
   "source": [
    "len(list(nx.connected_components(g)))"
   ]
  },
  {
   "cell_type": "code",
   "execution_count": 77,
   "metadata": {},
   "outputs": [],
   "source": [
    "adj = nx.adjacency_matrix(g).todense()"
   ]
  },
  {
   "cell_type": "code",
   "execution_count": 78,
   "metadata": {},
   "outputs": [],
   "source": [
    "adj_list = np.array(list(g.edges()))"
   ]
  },
  {
   "cell_type": "markdown",
   "metadata": {},
   "source": [
    "## Save data "
   ]
  },
  {
   "cell_type": "code",
   "execution_count": 171,
   "metadata": {},
   "outputs": [],
   "source": [
    "# np.save(\"./data/adj\",adj)\n",
    "np.save(\"./data/feature\",user_feature)\n",
    "np.save(\"./data/item_embedding\",item_embedding)"
   ]
  },
  {
   "cell_type": "code",
   "execution_count": 172,
   "metadata": {},
   "outputs": [],
   "source": [
    "np.save(\"./data/train\",train_df.values)"
   ]
  },
  {
   "cell_type": "code",
   "execution_count": 173,
   "metadata": {},
   "outputs": [],
   "source": [
    "np.save(\"./data/adj_list\",adj_list)"
   ]
  },
  {
   "cell_type": "code",
   "execution_count": 144,
   "metadata": {},
   "outputs": [],
   "source": [
    "import json\n",
    "with open('./data/test_ans.json', 'w') as fp:\n",
    "    json.dump(test_ans, fp)"
   ]
  },
  {
   "cell_type": "code",
   "execution_count": 150,
   "metadata": {},
   "outputs": [],
   "source": [
    "with open('./data/test_social.json', 'w') as fp:\n",
    "    json.dump(test_social, fp,default=str)"
   ]
  },
  {
   "cell_type": "code",
   "execution_count": 51,
   "metadata": {},
   "outputs": [],
   "source": [
    "d2 = {str(i):str(v) for i,v in item_inv.items()}"
   ]
  },
  {
   "cell_type": "code",
   "execution_count": 52,
   "metadata": {},
   "outputs": [],
   "source": [
    "with open('item_inv.json', 'w') as fp:\n",
    "    json.dump(d2, fp)"
   ]
  },
  {
   "cell_type": "code",
   "execution_count": 41,
   "metadata": {},
   "outputs": [],
   "source": [
    "# for i,v in zip([\"user_map\", \"user_inv\",\"item_map\",\"item_inv\"],[user_map, user_inv, item_map, item_inv ]):\n",
    "#     with open('%s.json'%i, 'w') as fp:\n",
    "#         json.dump({str(q):w for q,w in v.items()}, fp)"
   ]
  },
  {
   "cell_type": "code",
   "execution_count": 151,
   "metadata": {},
   "outputs": [
    {
     "data": {
      "text/plain": [
       "1563"
      ]
     },
     "execution_count": 151,
     "metadata": {},
     "output_type": "execute_result"
    }
   ],
   "source": [
    "sum([len(i) for i in test_social.values()])"
   ]
  },
  {
   "cell_type": "code",
   "execution_count": null,
   "metadata": {},
   "outputs": [],
   "source": []
  }
 ],
 "metadata": {
  "kernelspec": {
   "display_name": "Python 3",
   "language": "python",
   "name": "python3"
  },
  "language_info": {
   "codemirror_mode": {
    "name": "ipython",
    "version": 3
   },
   "file_extension": ".py",
   "mimetype": "text/x-python",
   "name": "python",
   "nbconvert_exporter": "python",
   "pygments_lexer": "ipython3",
   "version": "3.5.2"
  }
 },
 "nbformat": 4,
 "nbformat_minor": 2
}
